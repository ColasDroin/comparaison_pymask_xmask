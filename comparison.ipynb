{
 "cells": [
  {
   "attachments": {},
   "cell_type": "markdown",
   "metadata": {},
   "source": [
    "## Comparison between xmask and pymask machines"
   ]
  },
  {
   "attachments": {},
   "cell_type": "markdown",
   "metadata": {},
   "source": [
    "### Imports modules"
   ]
  },
  {
   "cell_type": "code",
   "execution_count": null,
   "metadata": {},
   "outputs": [],
   "source": [
    "import numpy as np\n",
    "import xtrack as xt\n",
    "import xpart as xp\n",
    "import pandas as pd\n",
    "import json\n",
    "import matplotlib.pyplot as plt\n",
    "\n",
    "# Plotting function\n",
    "from plotting_functions import plot_all\n",
    "\n",
    "# Plotly renderer\n",
    "import plotly.io as pio\n",
    "\n",
    "# ! Renderer should be set to 'notebook' or 'vscode' (depending on the IDE used) for interactive plots\n",
    "pio.renderers.default = \"browser\""
   ]
  },
  {
   "attachments": {},
   "cell_type": "markdown",
   "metadata": {},
   "source": [
    "### Build pymask line"
   ]
  },
  {
   "cell_type": "code",
   "execution_count": null,
   "metadata": {},
   "outputs": [],
   "source": [
    "path = \"pymask/xsuite_lines/line_bb_for_tracking.json\"\n",
    "with open(path) as fid:\n",
    "    dd = json.load(fid)\n",
    "p_co = xp.Particles.from_dict(dd[\"particle_on_tracker_co\"])\n",
    "pm_line = xt.Line.from_dict(dd)\n",
    "pm_line.particle_ref = xp.Particles.from_dict(dd[\"particle_on_tracker_co\"])\n",
    "pm_line.build_tracker()"
   ]
  },
  {
   "attachments": {},
   "cell_type": "markdown",
   "metadata": {},
   "source": [
    "### Build xmask line"
   ]
  },
  {
   "cell_type": "code",
   "execution_count": null,
   "metadata": {},
   "outputs": [],
   "source": [
    "collider = xt.Multiline.from_json(\"xmask/xsuite_lines/collider_03_tuned_bb_on.json\")\n",
    "collider.build_trackers()\n",
    "\n",
    "b1 = True\n",
    "if b1:\n",
    "    xm_line = collider[\"lhcb1\"]\n",
    "else:\n",
    "    xm_line = collider[\"lhcb2\"]"
   ]
  },
  {
   "attachments": {},
   "cell_type": "markdown",
   "metadata": {},
   "source": [
    "### Compare elements in both lines"
   ]
  },
  {
   "attachments": {},
   "cell_type": "markdown",
   "metadata": {},
   "source": [
    "#### Check element names which differ\n"
   ]
  },
  {
   "cell_type": "code",
   "execution_count": null,
   "metadata": {},
   "outputs": [],
   "source": [
    "# Get element names in pymask and xmask\n",
    "set_pm = set(pm_line.element_names)\n",
    "set_xm = set(xm_line.element_names)\n",
    "\n",
    "# Get elements in pymask but not in xmask\n",
    "set_pm_not_xm = set_pm - set_xm\n",
    "print(\"Elements in pymask but not in xmask\", set_pm_not_xm)\n",
    "print(\n",
    "    \"Elements in xmask but not in pymask that are not drifts\",\n",
    "    [x for x in set_pm_not_xm if \"drift\" not in x],\n",
    ")\n",
    "\n",
    "# Get elements in xmask but not in pymask\n",
    "set_xm_not_pm = set_xm - set_pm\n",
    "print(\"Elements in pymask but not in xmask\", set_xm_not_pm)\n",
    "print(\"Elements in pymask but not in xmask\", [x for x in set_xm_not_pm if \"drift\" not in x])"
   ]
  },
  {
   "attachments": {},
   "cell_type": "markdown",
   "metadata": {},
   "source": [
    "#### Check if some dipoles differ\n"
   ]
  },
  {
   "cell_type": "code",
   "execution_count": null,
   "metadata": {},
   "outputs": [],
   "source": [
    "dipole_names = [x for x in pm_line.element_names if \"mb\" in x]\n",
    "for i, dipole in enumerate(dipole_names):\n",
    "    class_element = pm_line[dipole].to_dict()[\"__class__\"]\n",
    "    if class_element != \"Marker\" and class_element != \"Drift\":\n",
    "        try:\n",
    "            if class_element == \"SRotation\":\n",
    "                assert pm_line[dipole].cos_z == xm_line[dipole].cos_z\n",
    "                assert pm_line[dipole].sin_z == xm_line[dipole].sin_z\n",
    "                assert pm_line[dipole].angle == xm_line[dipole].angle\n",
    "            else:\n",
    "                assert pm_line[dipole].length == xm_line[dipole].length\n",
    "                assert pm_line[dipole].hxl == xm_line[dipole].hxl\n",
    "                assert pm_line[dipole].hyl == xm_line[dipole].hyl\n",
    "                assert pm_line[dipole].knl[0] == xm_line[dipole].knl[0]\n",
    "                assert pm_line[dipole].ksl[0] == xm_line[dipole].ksl[0]\n",
    "        except:\n",
    "            try:\n",
    "                print(\"PM\", dipole, pm_line[dipole].to_dict())\n",
    "            except Exception as e:\n",
    "                print(e)\n",
    "            try:\n",
    "                print(\"XM\", dipole, xm_line[dipole].to_dict())\n",
    "            except Exception as e:\n",
    "                print(e)"
   ]
  },
  {
   "attachments": {},
   "cell_type": "markdown",
   "metadata": {},
   "source": [
    "#### Check if some multipoles differ "
   ]
  },
  {
   "cell_type": "code",
   "execution_count": null,
   "metadata": {},
   "outputs": [],
   "source": [
    "def check_difference_multipoles(multipole_names, index_strength):\n",
    "    for i, multipole in enumerate(multipole_names):\n",
    "        class_element = pm_line[multipole].to_dict()[\"__class__\"]\n",
    "        if class_element != \"Marker\" and class_element != \"Drift\":\n",
    "            try:\n",
    "                assert pm_line[multipole].length == xm_line[multipole].length\n",
    "                assert pm_line[multipole].hxl == xm_line[multipole].hxl\n",
    "                assert pm_line[multipole].hyl == xm_line[multipole].hyl\n",
    "                assert np.allclose(\n",
    "                    pm_line[multipole].knl[index_strength], xm_line[multipole].knl[index_strength]\n",
    "                )\n",
    "                assert np.allclose(\n",
    "                    pm_line[multipole].ksl[index_strength], xm_line[multipole].ksl[index_strength]\n",
    "                )\n",
    "            except:\n",
    "                try:\n",
    "                    print(\"PM\", multipole, pm_line[multipole].to_dict())\n",
    "                except Exception as e:\n",
    "                    print(e)\n",
    "                try:\n",
    "                    print(\"XM\", multipole, xm_line[multipole].to_dict())\n",
    "                except Exception as e:\n",
    "                    print(e)"
   ]
  },
  {
   "cell_type": "code",
   "execution_count": null,
   "metadata": {},
   "outputs": [],
   "source": [
    "# Quadrupoles\n",
    "quadrupole_names = [x for x in pm_line.element_names if \"mq\" in x]\n",
    "check_difference_multipoles(quadrupole_names, 1)"
   ]
  },
  {
   "cell_type": "code",
   "execution_count": null,
   "metadata": {},
   "outputs": [],
   "source": [
    "# Sextupoles\n",
    "sextupole_names = [x for x in pm_line.element_names if \"ms\" in x]\n",
    "check_difference_multipoles(sextupole_names, 2)"
   ]
  },
  {
   "cell_type": "code",
   "execution_count": null,
   "metadata": {},
   "outputs": [],
   "source": [
    "# Octupoles\n",
    "octupole_names = [x for x in pm_line.element_names if \"mo\" in x]\n",
    "check_difference_multipoles(octupole_names, 3)"
   ]
  },
  {
   "attachments": {},
   "cell_type": "markdown",
   "metadata": {},
   "source": [
    "### Check that main observables are the same"
   ]
  },
  {
   "cell_type": "code",
   "execution_count": null,
   "metadata": {},
   "outputs": [],
   "source": [
    "#tw_xm_1 = collider[\"lhcb1\"].twiss()\n",
    "tw_xm_1 = collider[\"lhcb1\"].twiss()\n",
    "tw_pm_1 = pm_line.twiss()"
   ]
  },
  {
   "cell_type": "code",
   "execution_count": null,
   "metadata": {},
   "outputs": [],
   "source": [
    "print(\"Tune pymask x:\", tw_pm_1.qx)\n",
    "print(\"Tune xmask x:\", tw_xm_1.qx)\n",
    "print()\n",
    "print(\"Tune pymask y:\", tw_pm_1.qy)\n",
    "print(\"Tune xmask y:\", tw_xm_1.qy)\n",
    "print()\n",
    "print(\"Chromaticity pymask x:\", tw_pm_1.dqx)\n",
    "print(\"Chromaticity xmask x:\", tw_xm_1.dqx)\n",
    "print()\n",
    "print(\"Chromaticity pymask y:\", tw_pm_1.dqy)\n",
    "print(\"Chromaticity xmask y:\", tw_xm_1.dqy)\n",
    "print()\n",
    "print(\"Linear coupling pymask:\", tw_pm_1.c_minus)\n",
    "print(\"Linear coupling xmask:\", tw_xm_1.c_minus)\n"
   ]
  },
  {
   "cell_type": "code",
   "execution_count": null,
   "metadata": {},
   "outputs": [],
   "source": [
    "for ip in [1,2,5,8]:\n",
    "    print(\"Pymask\", tw_pm_1.rows[f'ip{ip}'].cols['s', 'x', 'px', 'y', 'py'].to_pandas())\n",
    "    print(\"Xmask\", tw_xm_1.rows[f'ip{ip}'].cols['s', 'x', 'px', 'y', 'py'].to_pandas())\n",
    "    print()"
   ]
  },
  {
   "attachments": {},
   "cell_type": "markdown",
   "metadata": {},
   "source": [
    "### Replace the pymaks bb values with the xmask ones"
   ]
  },
  {
   "cell_type": "code",
   "execution_count": null,
   "metadata": {},
   "outputs": [],
   "source": [
    "for x in collider.lhcb1.element_dict:#collider.lhcb1.element_dict:\n",
    "    dic_el = collider.lhcb1.element_dict[x].to_dict()\n",
    "    if \"bb\" in x and dic_el['__class__']!='Drift':\n",
    "        for key in dic_el:\n",
    "            if key!='__class__':\n",
    "                setattr(pm_line.element_refs[x], key, dic_el[key])\n",
    "\n",
    "tw_pm_1 = pm_line.twiss()\n"
   ]
  },
  {
   "cell_type": "code",
   "execution_count": null,
   "metadata": {},
   "outputs": [],
   "source": [
    "tw_xm_1 = collider[\"lhcb1\"].twiss()\n",
    "tw_pm_1 = pm_line.twiss()\n",
    "\n",
    "print(\"Tune pymask x:\", tw_pm_1.qx)\n",
    "print(\"Tune xmask x:\", tw_xm_1.qx)\n",
    "print()\n",
    "print(\"Tune pymask y:\", tw_pm_1.qy)\n",
    "print(\"Tune xmask y:\", tw_xm_1.qy)\n",
    "print()\n",
    "print(\"Chromaticity pymask x:\", tw_pm_1.dqx)\n",
    "print(\"Chromaticity xmask x:\", tw_xm_1.dqx)\n",
    "print()\n",
    "print(\"Chromaticity pymask y:\", tw_pm_1.dqy)\n",
    "print(\"Chromaticity xmask y:\", tw_xm_1.dqy)\n",
    "print()\n",
    "print(\"Linear coupling pymask:\", tw_pm_1.c_minus)\n",
    "print(\"Linear coupling xmask:\", tw_xm_1.c_minus)"
   ]
  },
  {
   "cell_type": "code",
   "execution_count": null,
   "metadata": {},
   "outputs": [],
   "source": [
    "# Deactivate bb and see how values change\n",
    "collider.vars['beambeam_scale'] = 0\n",
    "\n",
    "# Set knob for 'on_bb_charge' for pymask\n",
    "for i, x in enumerate(tw_pm_1.to_pandas().name):\n",
    "    if \"bb_lr\" in x or \"bb_ho\" in x:\n",
    "        pm_line.element_refs[x].scale_strength = pm_line.vars[\"on_bb_charge\"]\n",
    "\n",
    "pm_line.vars[\"on_bb_charge\"] = 0\n",
    "\n",
    "tw_xm_1 = collider[\"lhcb1\"].twiss()\n",
    "tw_pm_1 = pm_line.twiss()\n",
    "\n",
    "print(\"Tune pymask x:\", tw_pm_1.qx)\n",
    "print(\"Tune xmask x:\", tw_xm_1.qx)\n",
    "print()\n",
    "print(\"Tune pymask y:\", tw_pm_1.qy)\n",
    "print(\"Tune xmask y:\", tw_xm_1.qy)\n",
    "print()\n",
    "print(\"Chromaticity pymask x:\", tw_pm_1.dqx)\n",
    "print(\"Chromaticity xmask x:\", tw_xm_1.dqx)\n",
    "print()\n",
    "print(\"Chromaticity pymask y:\", tw_pm_1.dqy)\n",
    "print(\"Chromaticity xmask y:\", tw_xm_1.dqy)\n",
    "print()\n",
    "print(\"Linear coupling pymask:\", tw_pm_1.c_minus)\n",
    "print(\"Linear coupling xmask:\", tw_xm_1.c_minus)\n",
    "\n",
    "# Reactive bb\n",
    "collider.vars['beambeam_scale'] = 1\n",
    "pm_line.vars[\"on_bb_charge\"] = 1\n",
    "\n"
   ]
  },
  {
   "cell_type": "code",
   "execution_count": null,
   "metadata": {},
   "outputs": [],
   "source": [
    "# Update linear coupling as well\n",
    "print([x for x in list(collider.vars._get_value().items()) if \"c_minus\" in x[0]])\n",
    "\n",
    "c_minus_re_b1_before_correction = collider.vars['c_minus_re_b1']._value\n",
    "c_minus_re_b2_before_correction = collider.vars['c_minus_re_b2']._value\n",
    "cmrskew = pm_line.vars['cmrskew']._value\n",
    "\n",
    "collider.vars['c_minus_re_b1'] += 0.001\n",
    "collider.vars['c_minus_re_b2'] += 0.001\n",
    "\n",
    "print(collider.vars['c_minus_re_b1']._get_value())\n",
    "\n",
    "tw_xm_1 = collider[\"lhcb1\"].twiss()\n",
    "tw_xm_2 = collider[\"lhcb2\"].twiss()\n",
    "\n",
    "print(tw_xm_1.c_minus, tw_xm_2.c_minus)"
   ]
  },
  {
   "attachments": {},
   "cell_type": "markdown",
   "metadata": {},
   "source": [
    "### Plot everything in an interactive widget"
   ]
  },
  {
   "cell_type": "code",
   "execution_count": null,
   "metadata": {},
   "outputs": [],
   "source": [
    "fig = plot_all(tw_pm_1, tw_xm_1, tw_xm_2)\n",
    "\n",
    "fig.write_html(\"widgets/widget.html\", config = {'displayModeBar': False})\n",
    "fig.show(config = {'displayModeBar': False})"
   ]
  },
  {
   "attachments": {},
   "cell_type": "markdown",
   "metadata": {},
   "source": [
    "### Plot footprint again"
   ]
  },
  {
   "cell_type": "code",
   "execution_count": null,
   "metadata": {},
   "outputs": [],
   "source": [
    "# Temporary remove coupling to get a better footprint\n",
    "collider.vars['c_minus_re_b1'] = 0\n",
    "collider.vars['c_minus_re_b2'] = 0\n",
    "pm_line.vars['cmrskew'] = 0\n",
    "\n",
    "### CHECK\n",
    "tw_pm_1 = pm_line.twiss()\n",
    "tw_xm_1 = collider[\"lhcb1\"].twiss()\n",
    "\n",
    "print(tw_pm_1.c_minus)\n",
    "print(tw_xm_1.c_minus)\n",
    "\n",
    "# Plot footprint\n",
    "fp_polar_xm = collider[\"lhcb1\"].get_footprint(\n",
    "    nemitt_x=2.5e-6,\n",
    "    nemitt_y=2.5e-6,\n",
    "    linear_rescale_on_knobs=[xt.LinearRescale(knob_name=\"beambeam_scale\", v0=0.0, dv=0.1/2)],\n",
    ")\n",
    "\n",
    "fig, ax = plt.subplots(1, 1, figsize=(8, 8))\n",
    "fp_polar_xm.plot(ax=ax, label=\"no rescale bb\")\n",
    "#plt.suptitle(\"Polar mode (default) - no rescale on beambeam. Xmask.\")\n",
    "#plt.show()\n",
    "\n",
    "\n",
    "fp_polar = pm_line.get_footprint(\n",
    "    nemitt_x=2.5e-6,\n",
    "    nemitt_y=2.5e-6,\n",
    "    linear_rescale_on_knobs=[xt.LinearRescale(knob_name=\"on_bb_charge\", v0=0.0, dv=0.1/2)],\n",
    ")\n",
    "\n",
    "#fig, ax = plt.subplots(1, 1, figsize=(8, 8))\n",
    "fp_polar.plot(ax=ax, label=\"no rescale bb\", color = 'red')\n",
    "plt.suptitle(\"Polar mode (default)\")\n",
    "plt.show()\n",
    "\n",
    "# Set back coupling\n",
    "collider.vars['c_minus_re_b1'] = c_minus_re_b1_before_correction + 0.001\n",
    "collider.vars['c_minus_re_b2'] = c_minus_re_b2_before_correction + 0.001\n",
    "pm_line.vars['cmrskew'] = cmrskew\n",
    "tw_pm_1 = pm_line.twiss()\n",
    "tw_xm_1 = collider[\"lhcb1\"].twiss()\n",
    "\n"
   ]
  },
  {
   "cell_type": "code",
   "execution_count": null,
   "metadata": {},
   "outputs": [],
   "source": [
    "### Same as before without touching coupling knobs\n",
    "### CHECK\n",
    "print(tw_pm_1.c_minus)\n",
    "print(tw_xm_1.c_minus)\n",
    "\n",
    "# Plot footprint\n",
    "fp_polar_xm = collider[\"lhcb1\"].get_footprint(\n",
    "    nemitt_x=2.5e-6,\n",
    "    nemitt_y=2.5e-6,\n",
    "    linear_rescale_on_knobs=[xt.LinearRescale(knob_name=\"beambeam_scale\", v0=0.0, dv=0.1/2)],\n",
    ")\n",
    "\n",
    "fig, ax = plt.subplots(1, 1, figsize=(8, 8))\n",
    "fp_polar_xm.plot(ax=ax, label=\"no rescale bb\")\n",
    "#plt.suptitle(\"Polar mode (default) - no rescale on beambeam. Xmask.\")\n",
    "#plt.show()\n",
    "\n",
    "\n",
    "fp_polar = pm_line.get_footprint(\n",
    "    nemitt_x=2.5e-6,\n",
    "    nemitt_y=2.5e-6,\n",
    "    linear_rescale_on_knobs=[xt.LinearRescale(knob_name=\"on_bb_charge\", v0=0.0, dv=0.1/2)],\n",
    ")\n",
    "\n",
    "#fig, ax = plt.subplots(1, 1, figsize=(8, 8))\n",
    "fp_polar.plot(ax=ax, label=\"no rescale bb\", color = 'red')\n",
    "plt.suptitle(\"Polar mode (default)\")\n",
    "plt.show()"
   ]
  },
  {
   "cell_type": "markdown",
   "metadata": {},
   "source": []
  },
  {
   "cell_type": "code",
   "execution_count": null,
   "metadata": {},
   "outputs": [],
   "source": []
  }
 ],
 "metadata": {
  "kernelspec": {
   "display_name": "Python 3",
   "language": "python",
   "name": "python3"
  },
  "language_info": {
   "codemirror_mode": {
    "name": "ipython",
    "version": 3
   },
   "file_extension": ".py",
   "mimetype": "text/x-python",
   "name": "python",
   "nbconvert_exporter": "python",
   "pygments_lexer": "ipython3",
   "version": "3.10.9"
  },
  "orig_nbformat": 4
 },
 "nbformat": 4,
 "nbformat_minor": 2
}
